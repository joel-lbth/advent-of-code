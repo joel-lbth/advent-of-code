{
 "cells": [
  {
   "cell_type": "markdown",
   "metadata": {},
   "source": [
    "---\n",
    "title: \"advent of code 2023\"\n",
    "format: \n",
    "  html:\n",
    "    theme: darkly\n",
    "mermaid:\n",
    "  theme: dark\n",
    "bibliography: references.bib\n",
    "link-citations: true\n",
    "nocite: |\n",
    "  @*\n",
    "header-includes: |\n",
    "      <link rel=\"stylesheet\" media=\"screen\" href=\"font/style.css\" type=\"text/css\"/>\n",
    "mainfont: AtkinsonHyperlegible\n",
    "monofont: SpaceMono\n",
    "\n",
    "---"
   ]
  },
  {
   "cell_type": "markdown",
   "metadata": {},
   "source": [
    "# day 0\n"
   ]
  },
  {
   "cell_type": "code",
   "execution_count": 42,
   "metadata": {},
   "outputs": [],
   "source": [
    "# brief \n",
    "\n",
    "'''\n",
    "On each line, the calibration value can be found by combining\n",
    "the first digit and the last digit (in that order) to form a\n",
    "single two-digit number.\n",
    " \n",
    "For example:\n",
    " \n",
    "1abc2\n",
    "pqr3stu8vwx\n",
    "a1b2c3d4e5f\n",
    "treb7uchet\n",
    "In this example, the calibration values of these four lines are\n",
    "12, 38, 15, and 77.\n",
    "Adding these together produces 142.\n",
    "'''\n",
    "\n",
    "# solution\n",
    "\n",
    "def day00(input=input):\n",
    "    import re\n",
    "    first = re.sub(r'\\D*(\\d).*\\n', r'\\1', input)\n",
    "    last = re.sub(r'.*(\\d)\\D*\\n', r'\\1', input)\n",
    "\n",
    "    i=0\n",
    "    total=0\n",
    "    while i<len(first):\n",
    "        row = int(first[i]+last[i])\n",
    "        total = total + row\n",
    "        i = i+1\n",
    "    return total\n",
    "\n",
    "example = '''1abc2\n",
    "pqr3stu8vwx\n",
    "a1b2c3d4e5f\n",
    "treb7uchet\n",
    "'''\n",
    "\n",
    "# run test\n",
    "assert day00(example) == 142"
   ]
  },
  {
   "cell_type": "code",
   "execution_count": 44,
   "metadata": {},
   "outputs": [
    {
     "name": "stdout",
     "output_type": "stream",
     "text": [
      "solution: 55538\n"
     ]
    }
   ],
   "source": [
    "# use on official input\n",
    "with open('input/input-00.txt', 'r') as file:\n",
    "    print('solution:', day00(input=file.read()))"
   ]
  }
 ],
 "metadata": {
  "kernelspec": {
   "display_name": "hdrc",
   "language": "python",
   "name": "python3"
  },
  "language_info": {
   "codemirror_mode": {
    "name": "ipython",
    "version": 3
   },
   "file_extension": ".py",
   "mimetype": "text/x-python",
   "name": "python",
   "nbconvert_exporter": "python",
   "pygments_lexer": "ipython3",
   "version": "3.11.5"
  }
 },
 "nbformat": 4,
 "nbformat_minor": 2
}
