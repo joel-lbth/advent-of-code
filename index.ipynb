{
 "cells": [
  {
   "cell_type": "markdown",
   "metadata": {},
   "source": [
    "---\n",
    "title: \"advent of code 2023\"\n",
    "format: \n",
    "  html:\n",
    "    theme: darkly\n",
    "mermaid:\n",
    "  theme: dark\n",
    "bibliography: references.bib\n",
    "link-citations: true\n",
    "nocite: |\n",
    "  @*\n",
    "header-includes: |\n",
    "      <link rel=\"stylesheet\" media=\"screen\" href=\"font/style.css\" type=\"text/css\"/>\n",
    "mainfont: AtkinsonHyperlegible\n",
    "monofont: SpaceMono\n",
    "\n",
    "---"
   ]
  },
  {
   "cell_type": "markdown",
   "metadata": {},
   "source": [
    "# day 0\n"
   ]
  },
  {
   "cell_type": "code",
   "execution_count": 4,
   "metadata": {},
   "outputs": [
    {
     "name": "stdout",
     "output_type": "stream",
     "text": [
      "first digits: 1317 last digits: 2857 total: 142\n"
     ]
    }
   ],
   "source": [
    "brief = '''\n",
    "On each line, the calibration value can be found by combining\n",
    "the first digit and the last digit (in that order) to form a\n",
    "single two-digit number.\n",
    " \n",
    "For example:\n",
    " \n",
    "1abc2\n",
    "pqr3stu8vwx\n",
    "a1b2c3d4e5f\n",
    "treb7uchet\n",
    "In this example, the calibration values of these four lines are\n",
    "12, 38, 15, and 77.\n",
    "Adding these together produces 142.\n",
    "'''\n",
    "\n",
    "# solution\n",
    "\n",
    "import re\n",
    "s = '''1abc2\n",
    "pqr3stu8vwx\n",
    "a1b2c3d4e5f\n",
    "treb7uchet\n",
    "'''\n",
    "first = re.sub(r'\\D*(\\d).*\\n', r'\\1', s)\n",
    "last = re.sub(r'.*(\\d)\\D*\\n', r'\\1', s)\n",
    "\n",
    "i=0\n",
    "total=0\n",
    "while i<len(first):\n",
    "    row = int(first[i]+last[i])\n",
    "    total = total + row\n",
    "    i = i+1\n",
    " \n",
    "assert total == 142\n",
    "print(f'first digits: {first}', f'last digits: {last}', f'total: {total}') "
   ]
  }
 ],
 "metadata": {
  "kernelspec": {
   "display_name": "hdrc",
   "language": "python",
   "name": "python3"
  },
  "language_info": {
   "codemirror_mode": {
    "name": "ipython",
    "version": 3
   },
   "file_extension": ".py",
   "mimetype": "text/x-python",
   "name": "python",
   "nbconvert_exporter": "python",
   "pygments_lexer": "ipython3",
   "version": "3.11.5"
  }
 },
 "nbformat": 4,
 "nbformat_minor": 2
}
