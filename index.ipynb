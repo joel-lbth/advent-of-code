{
 "cells": [
  {
   "cell_type": "markdown",
   "metadata": {},
   "source": [
    "---\n",
    "title: \"🎄 advent of code ❄️\"\n",
    "format: \n",
    "  html:\n",
    "    theme: solar\n",
    "mermaid:\n",
    "  theme: dark\n",
    "bibliography: references.bib\n",
    "link-citations: true\n",
    "nocite: |\n",
    "  @*\n",
    "header-includes: |\n",
    "      <link rel=\"stylesheet\" media=\"screen\" href=\"font/style.css\" type=\"text/css\"/>\n",
    "mainfont: AtkinsonHyperlegible\n",
    "monofont: SpaceMono\n",
    "\n",
    "---"
   ]
  },
  {
   "cell_type": "markdown",
   "metadata": {},
   "source": [
    "# 📆 day 0 \n"
   ]
  },
  {
   "cell_type": "markdown",
   "metadata": {},
   "source": [
    "## 📜 brief \n",
    "\n",
    "On each line, the calibration value can be found by combining the first digit and the last digit (in that order) to form a single two-digit number.\n",
    " \n",
    "For example:\n",
    " \n",
    "```\n",
    "1abc2\n",
    "pqr3stu8vwx\n",
    "a1b2c3d4e5f\n",
    "treb7uchet\n",
    "```\n",
    "\n",
    "In this example, the calibration values of these four lines are 12, 38, 15, and 77.\n",
    "\n",
    "Adding these together produces 142.\n"
   ]
  },
  {
   "cell_type": "markdown",
   "metadata": {},
   "source": [
    "## 🛠️ solution\n"
   ]
  },
  {
   "cell_type": "code",
   "execution_count": 1,
   "metadata": {},
   "outputs": [],
   "source": [
    "def day00(input=input):\n",
    "    import re\n",
    "    first = re.sub(r'\\D*(\\d).*\\n', r'\\1', input)\n",
    "    last = re.sub(r'.*(\\d)\\D*\\n', r'\\1', input)\n",
    "\n",
    "    i=0\n",
    "    total=0\n",
    "    while i<len(first):\n",
    "        row = int(first[i]+last[i])\n",
    "        total = total + row\n",
    "        i = i+1\n",
    "    return total\n",
    "\n",
    "example = '''1abc2\n",
    "pqr3stu8vwx\n",
    "a1b2c3d4e5f\n",
    "treb7uchet\n",
    "'''\n",
    "\n",
    "# run test\n",
    "assert day00(example) == 142"
   ]
  },
  {
   "cell_type": "code",
   "execution_count": 2,
   "metadata": {},
   "outputs": [
    {
     "name": "stdout",
     "output_type": "stream",
     "text": [
      "solution: 55538\n"
     ]
    }
   ],
   "source": [
    "# use on official input\n",
    "with open('input/input-00.txt', 'r') as file:\n",
    "    print('solution:', day00(input=file.read()))"
   ]
  },
  {
   "cell_type": "markdown",
   "metadata": {},
   "source": [
    "# 📆 day 01"
   ]
  },
  {
   "cell_type": "markdown",
   "metadata": {},
   "source": [
    "## 📜 brief\n",
    "\n",
    "...a small bag and some cubes which are either red, green, or blue. Each time you play this game, they will hide a secret number of cubes of each color in the bag, and your goal is to figure out information about the number of cubes.\n",
    "\n",
    "To get information, once a bag has been loaded with cubes, they will reach into the bag, grab a handful of random cubes, show them to you, and then put them back in the bag; a few times per game.\n",
    "\n",
    "```python\n",
    "1: 3 blue, 4 red; 1 red, 2 green, 6 blue; 2 green\n",
    "2: 1 blue, 2 green; 3 green, 4 blue, 1 red; 1 green, 1 blue\n",
    "3: 8 green, 6 blue, 20 red; 5 blue, 4 red, 13 green; 5 green, 1 red\n",
    "4: 1 green, 3 red, 6 blue; 3 green, 6 red; 3 green, 15 blue, 14 red\n",
    "5: 6 red, 1 blue, 3 green; 2 blue, 1 red, 2 green\n",
    "```\n",
    "\n",
    "...which games would have been possible if the bag contained \n",
    "12 red cubes, 13 green cubes, and 14 blue cubes?\n",
    "What is the sum of the IDs of those games? If you add up the \n",
    "IDs of the games that would have been possible, you get 8.\n"
   ]
  },
  {
   "cell_type": "markdown",
   "metadata": {},
   "source": [
    "## 🛠️ solution "
   ]
  },
  {
   "cell_type": "code",
   "execution_count": 3,
   "metadata": {},
   "outputs": [],
   "source": [
    "sample = '''Game 1: 3 blue, 4 red; 1 red, 2 green, 6 blue; 2 green\n",
    "Game 2: 1 blue, 2 green; 3 green, 4 blue, 1 red; 1 green, 1 blue\n",
    "Game 3: 8 green, 6 blue, 20 red; 5 blue, 4 red, 13 green; 5 green, 1 red\n",
    "Game 4: 1 green, 3 red, 6 blue; 3 green, 6 red; 3 green, 15 blue, 14 red\n",
    "Game 5: 6 red, 1 blue, 3 green; 2 blue, 1 red, 2 green\n",
    "'''"
   ]
  },
  {
   "cell_type": "code",
   "execution_count": 4,
   "metadata": {},
   "outputs": [],
   "source": [
    "# read into dict\n",
    "# each key is a game, each value the turn(s)\n",
    "# each turn has >=0 dice of each colour\n",
    "# if that turn includes more than the stated max of that colour, then the game is impossible\n",
    "# are any colours more than 12(r), 13(g), 14(b)\n",
    "\n",
    "def day01(input, reds, greens, blues):\n",
    "  tally = {line.split(':')[0]: line.split(':')[1].strip() for line in input.splitlines()}\n",
    "  game_id = 0\n",
    "  valid_game_ids = []\n",
    "  for game in tally.values():\n",
    "    game_id = game_id + 1\n",
    "    round = game.split(';')\n",
    "    round = [round.split(',') for round in round]\n",
    "    red_flag = False\n",
    "    for turn in round:\n",
    "      for dice in turn:\n",
    "        dice = dice.strip()\n",
    "        col = dice.split(' ')\n",
    "        match col[1]:\n",
    "          case 'red':\n",
    "            if int(col[0])>reds:\n",
    "              red_flag = True\n",
    "              break\n",
    "          case 'green':\n",
    "            if int(col[0])>greens:\n",
    "              red_flag = True\n",
    "              break\n",
    "          case 'blue':\n",
    "            if int(col[0])>blues:\n",
    "              red_flag = True\n",
    "              break\n",
    "          \n",
    "    if(not red_flag):\n",
    "      valid_game_ids.append(game_id)\n",
    "  return sum(valid_game_ids)\n"
   ]
  },
  {
   "cell_type": "code",
   "execution_count": 5,
   "metadata": {},
   "outputs": [],
   "source": [
    "assert day01(sample, 12, 13, 14) == 8"
   ]
  },
  {
   "cell_type": "code",
   "execution_count": 6,
   "metadata": {},
   "outputs": [
    {
     "name": "stdout",
     "output_type": "stream",
     "text": [
      "solution: 3059\n"
     ]
    }
   ],
   "source": [
    "# use on official input\n",
    "with open('input/input-01.txt', 'r') as file:\n",
    "    print('solution:', day01(input=file.read(), reds=12, greens=13, blues=14))"
   ]
  }
 ],
 "metadata": {
  "kernelspec": {
   "display_name": "hdrc",
   "language": "python",
   "name": "python3"
  },
  "language_info": {
   "codemirror_mode": {
    "name": "ipython",
    "version": 3
   },
   "file_extension": ".py",
   "mimetype": "text/x-python",
   "name": "python",
   "nbconvert_exporter": "python",
   "pygments_lexer": "ipython3",
   "version": "3.11.5"
  }
 },
 "nbformat": 4,
 "nbformat_minor": 2
}
