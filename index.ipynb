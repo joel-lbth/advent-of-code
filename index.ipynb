{
 "cells": [
  {
   "cell_type": "markdown",
   "metadata": {},
   "source": [
    "---\n",
    "title: \"🎄 advent of code ❄️\"\n",
    "format: \n",
    "  html:\n",
    "    theme: solar\n",
    "mermaid:\n",
    "  theme: dark\n",
    "bibliography: references.bib\n",
    "link-citations: true\n",
    "nocite: |\n",
    "  @*\n",
    "header-includes: |\n",
    "      <link rel=\"stylesheet\" media=\"screen\" href=\"font/style.css\" type=\"text/css\"/>\n",
    "mainfont: AtkinsonHyperlegible\n",
    "monofont: SpaceMono\n",
    "\n",
    "---"
   ]
  },
  {
   "cell_type": "markdown",
   "metadata": {},
   "source": [
    "## 📆 day 0 \n"
   ]
  },
  {
   "cell_type": "markdown",
   "metadata": {},
   "source": [
    "### 📜 brief \n",
    "\n",
    "On each line, the calibration value can be found by combining the first digit and the last digit (in that order) to form a single two-digit number.\n",
    " \n",
    "For example:\n",
    " \n",
    "```\n",
    "1abc2\n",
    "pqr3stu8vwx\n",
    "a1b2c3d4e5f\n",
    "treb7uchet\n",
    "```\n",
    "\n",
    "In this example, the calibration values of these four lines are 12, 38, 15, and 77.\n",
    "\n",
    "Adding these together produces 142.\n"
   ]
  },
  {
   "cell_type": "markdown",
   "metadata": {},
   "source": [
    "### 🛠️ solution\n"
   ]
  },
  {
   "cell_type": "code",
   "execution_count": 1,
   "metadata": {},
   "outputs": [],
   "source": [
    "def day00(input=input):\n",
    "    import re\n",
    "    first = re.sub(r'\\D*(\\d).*\\n', r'\\1', input)\n",
    "    last = re.sub(r'.*(\\d)\\D*\\n', r'\\1', input)\n",
    "\n",
    "    i=0\n",
    "    total=0\n",
    "    while i<len(first):\n",
    "        row = int(first[i]+last[i])\n",
    "        total = total + row\n",
    "        i = i+1\n",
    "    return total\n",
    "\n",
    "example = '''1abc2\n",
    "pqr3stu8vwx\n",
    "a1b2c3d4e5f\n",
    "treb7uchet\n",
    "'''\n",
    "\n",
    "# run test\n",
    "assert day00(example) == 142"
   ]
  },
  {
   "cell_type": "code",
   "execution_count": 2,
   "metadata": {},
   "outputs": [
    {
     "name": "stdout",
     "output_type": "stream",
     "text": [
      "solution: 55538\n"
     ]
    }
   ],
   "source": [
    "# use on official input\n",
    "with open('input/input-00.txt', 'r') as file:\n",
    "    print('solution:', day00(input=file.read()))"
   ]
  },
  {
   "cell_type": "markdown",
   "metadata": {},
   "source": [
    "## 📆 day 01"
   ]
  },
  {
   "cell_type": "markdown",
   "metadata": {},
   "source": [
    "### 📜 brief\n",
    "\n",
    "...a small bag and some cubes which are either red, green, or blue. Each time you play this game, they will hide a secret number of cubes of each color in the bag, and your goal is to figure out information about the number of cubes.\n",
    "\n",
    "To get information, once a bag has been loaded with cubes, they will reach into the bag, grab a handful of random cubes, show them to you, and then put them back in the bag; a few times per game.\n",
    "\n",
    "```python\n",
    "1: 3 blue, 4 red; 1 red, 2 green, 6 blue; 2 green\n",
    "2: 1 blue, 2 green; 3 green, 4 blue, 1 red; 1 green, 1 blue\n",
    "3: 8 green, 6 blue, 20 red; 5 blue, 4 red, 13 green; 5 green, 1 red\n",
    "4: 1 green, 3 red, 6 blue; 3 green, 6 red; 3 green, 15 blue, 14 red\n",
    "5: 6 red, 1 blue, 3 green; 2 blue, 1 red, 2 green\n",
    "```\n",
    "\n",
    "...which games would have been possible if the bag contained \n",
    "12 red cubes, 13 green cubes, and 14 blue cubes?\n",
    "What is the sum of the IDs of those games? If you add up the \n",
    "IDs of the games that would have been possible, you get 8.\n"
   ]
  },
  {
   "cell_type": "markdown",
   "metadata": {},
   "source": [
    "### 🛠️ solution "
   ]
  },
  {
   "cell_type": "code",
   "execution_count": 3,
   "metadata": {},
   "outputs": [],
   "source": [
    "sample = '''Game 1: 3 blue, 4 red; 1 red, 2 green, 6 blue; 2 green\n",
    "Game 2: 1 blue, 2 green; 3 green, 4 blue, 1 red; 1 green, 1 blue\n",
    "Game 3: 8 green, 6 blue, 20 red; 5 blue, 4 red, 13 green; 5 green, 1 red\n",
    "Game 4: 1 green, 3 red, 6 blue; 3 green, 6 red; 3 green, 15 blue, 14 red\n",
    "Game 5: 6 red, 1 blue, 3 green; 2 blue, 1 red, 2 green\n",
    "'''"
   ]
  },
  {
   "cell_type": "code",
   "execution_count": 4,
   "metadata": {},
   "outputs": [],
   "source": [
    "# read into dict\n",
    "# each key is a game, each value the turn(s)\n",
    "# each turn has >=0 dice of each colour\n",
    "# if that turn includes more than the stated max of that colour, then the game is impossible\n",
    "# are any colours more than 12(r), 13(g), 14(b)\n",
    "\n",
    "def day01(input, reds, greens, blues):\n",
    "  tally = {line.split(':')[0]: line.split(':')[1].strip() for line in input.splitlines()}\n",
    "  game_id = 0\n",
    "  valid_game_ids = []\n",
    "  for game in tally.values():\n",
    "    game_id = game_id + 1\n",
    "    round = game.split(';')\n",
    "    round = [round.split(',') for round in round]\n",
    "    red_flag = False\n",
    "    for turn in round:\n",
    "      for dice in turn:\n",
    "        dice = dice.strip()\n",
    "        col = dice.split(' ')\n",
    "        match col[1]:\n",
    "          case 'red':\n",
    "            if int(col[0])>reds:\n",
    "              red_flag = True\n",
    "              break\n",
    "          case 'green':\n",
    "            if int(col[0])>greens:\n",
    "              red_flag = True\n",
    "              break\n",
    "          case 'blue':\n",
    "            if int(col[0])>blues:\n",
    "              red_flag = True\n",
    "              break\n",
    "          \n",
    "    if(not red_flag):\n",
    "      valid_game_ids.append(game_id)\n",
    "  return sum(valid_game_ids)\n"
   ]
  },
  {
   "cell_type": "code",
   "execution_count": 5,
   "metadata": {},
   "outputs": [],
   "source": [
    "assert day01(sample, 12, 13, 14) == 8"
   ]
  },
  {
   "cell_type": "code",
   "execution_count": 6,
   "metadata": {},
   "outputs": [
    {
     "name": "stdout",
     "output_type": "stream",
     "text": [
      "solution: 3059\n"
     ]
    }
   ],
   "source": [
    "# use on official input\n",
    "with open('input/input-01.txt', 'r') as file:\n",
    "    print('solution:', day01(input=file.read(), reds=12, greens=13, blues=14))"
   ]
  },
  {
   "cell_type": "markdown",
   "metadata": {},
   "source": [
    "## 📆 day 02"
   ]
  },
  {
   "cell_type": "markdown",
   "metadata": {},
   "source": [
    "### 📜 brief\n",
    "\n",
    "> any number adjacent to a symbol, even diagonally\n",
    "\n",
    "```python\n",
    "467..114..\n",
    "...*......\n",
    "..35..633.\n",
    "......#...\n",
    "617*......\n",
    ".....+.58.\n",
    "..592.....\n",
    "......755.\n",
    "...$.*....\n",
    ".664.598..\n",
    "```\n",
    "\n",
    "> In this schematic, two numbers are not part numbers because they are not adjacent to a symbol: 114 (top right) and 58 (middle right). Every other number is adjacent to a symbol and so is a part number; **their sum is 4361**."
   ]
  },
  {
   "cell_type": "markdown",
   "metadata": {},
   "source": [
    "### 🛠️ solution "
   ]
  },
  {
   "cell_type": "code",
   "execution_count": null,
   "metadata": {},
   "outputs": [],
   "source": [
    "# make a list to tally values\n",
    "# read through the grid, \n",
    "  # number by number, \n",
    "    # character by character\n",
    "    # if adjacent values (outside the number) aren't \".\"\n",
    "      # include the current word in the tally"
   ]
  },
  {
   "cell_type": "code",
   "execution_count": 12,
   "metadata": {},
   "outputs": [],
   "source": [
    "sample = '''\n",
    "467..114..\n",
    "...*......\n",
    "..35..633.\n",
    "......#...\n",
    "617*......\n",
    ".....+.58.\n",
    "..592.....\n",
    "......755.\n",
    "...$.*....\n",
    ".664.598..\n",
    "'''"
   ]
  },
  {
   "cell_type": "code",
   "execution_count": 99,
   "metadata": {},
   "outputs": [],
   "source": [
    "import re\n",
    "def get_adjacent_chars(grid, row, col):\n",
    "    adjacent_chars = []\n",
    "    rows, cols = len(grid), len(grid[0])\n",
    "\n",
    "    # Check above\n",
    "    if row > 0:\n",
    "        s = re.findall('[^\\.\\d]',grid[row - 1][col])\n",
    "        if len(s)>0:\n",
    "            adjacent_chars.append(grid[row - 1][col])\n",
    "\n",
    "    # Check above-right diagonal\n",
    "    if row > 0 and col < cols - 1:\n",
    "        s = re.findall('[^\\.\\d]', grid[row - 1][col + 1])\n",
    "        if len(s) > 0:\n",
    "            adjacent_chars.append(grid[row - 1][col + 1])\n",
    "\n",
    "    # Check right\n",
    "    if col < cols - 1:\n",
    "        s = re.findall('[^\\.\\d]', grid[row][col + 1])\n",
    "        if len(s) > 0:\n",
    "            adjacent_chars.append(grid[row][col + 1])\n",
    "\n",
    "    # Check below-right diagonal\n",
    "    if row < rows - 1 and col < cols - 1:\n",
    "        s = re.findall('[^\\.\\d]', grid[row + 1][col + 1])\n",
    "        if len(s) > 0:\n",
    "            adjacent_chars.append(grid[row + 1][col + 1])\n",
    "\n",
    "    # Check below\n",
    "    if row < rows - 1:\n",
    "        s = re.findall('[^\\.\\d]', grid[row + 1][col])\n",
    "        if len(s) > 0:\n",
    "            adjacent_chars.append(grid[row + 1][col])\n",
    "\n",
    "    # Check below-left diagonal\n",
    "    if row < rows - 1 and col > 0:\n",
    "        s = re.findall('[^\\.\\d]', grid[row + 1][col - 1])\n",
    "        if len(s) > 0:\n",
    "            adjacent_chars.append(grid[row + 1][col - 1])\n",
    "\n",
    "    # Check left\n",
    "    if col > 0:\n",
    "        s = re.findall('[^\\.\\d]', grid[row][col - 1])\n",
    "        if len(s) > 0:\n",
    "            adjacent_chars.append(grid[row][col - 1])\n",
    "\n",
    "    # Check above-left diagonal\n",
    "    if row > 0 and col > 0:\n",
    "        s = re.findall('[^\\.\\d]', grid[row - 1][col - 1])\n",
    "        if len(s) > 0:\n",
    "            adjacent_chars.append(grid[row - 1][col - 1])\n",
    "\n",
    "    return adjacent_chars"
   ]
  },
  {
   "cell_type": "code",
   "execution_count": 100,
   "metadata": {},
   "outputs": [
    {
     "data": {
      "text/plain": [
       "['467..114..',\n",
       " '...*......',\n",
       " '..35..633.',\n",
       " '......#...',\n",
       " '617*......',\n",
       " '.....+.58.',\n",
       " '..592.....',\n",
       " '......755.',\n",
       " '...$.*....',\n",
       " '.664.598..']"
      ]
     },
     "execution_count": 100,
     "metadata": {},
     "output_type": "execute_result"
    }
   ],
   "source": [
    "rows = sample.splitlines()\n",
    "rows = list(filter(None,rows))\n",
    "rows"
   ]
  },
  {
   "cell_type": "code",
   "execution_count": 101,
   "metadata": {},
   "outputs": [
    {
     "name": "stdout",
     "output_type": "stream",
     "text": [
      "0 0 []\n",
      "0 1 []\n",
      "0 2 ['*']\n",
      "0 3 ['*']\n",
      "0 4 ['*']\n",
      "0 5 []\n",
      "0 6 []\n",
      "0 7 []\n",
      "0 8 []\n",
      "0 9 []\n",
      "1 0 []\n",
      "1 1 []\n",
      "1 2 ['*']\n",
      "1 3 []\n",
      "1 4 ['*']\n",
      "1 5 []\n",
      "1 6 []\n",
      "1 7 []\n",
      "1 8 []\n",
      "1 9 []\n",
      "2 0 []\n",
      "2 1 []\n",
      "2 2 ['*']\n",
      "2 3 ['*']\n",
      "2 4 ['*']\n",
      "2 5 ['#']\n",
      "2 6 ['#']\n",
      "2 7 ['#']\n",
      "2 8 []\n",
      "2 9 []\n",
      "3 0 []\n",
      "3 1 []\n",
      "3 2 ['*']\n",
      "3 3 ['*']\n",
      "3 4 ['*']\n",
      "3 5 ['#']\n",
      "3 6 []\n",
      "3 7 ['#']\n",
      "3 8 []\n",
      "3 9 []\n",
      "4 0 []\n",
      "4 1 []\n",
      "4 2 ['*']\n",
      "4 3 []\n",
      "4 4 ['+', '*']\n",
      "4 5 ['#', '+']\n",
      "4 6 ['#', '+']\n",
      "4 7 ['#']\n",
      "4 8 []\n",
      "4 9 []\n",
      "5 0 []\n",
      "5 1 []\n",
      "5 2 ['*']\n",
      "5 3 ['*']\n",
      "5 4 ['+', '*']\n",
      "5 5 []\n",
      "5 6 ['+']\n",
      "5 7 []\n",
      "5 8 []\n",
      "5 9 []\n",
      "6 0 []\n",
      "6 1 []\n",
      "6 2 []\n",
      "6 3 []\n",
      "6 4 ['+']\n",
      "6 5 ['+']\n",
      "6 6 ['+']\n",
      "6 7 []\n",
      "6 8 []\n",
      "6 9 []\n",
      "7 0 []\n",
      "7 1 []\n",
      "7 2 ['$']\n",
      "7 3 ['$']\n",
      "7 4 ['*', '$']\n",
      "7 5 ['*']\n",
      "7 6 ['*']\n",
      "7 7 []\n",
      "7 8 []\n",
      "7 9 []\n",
      "8 0 []\n",
      "8 1 []\n",
      "8 2 ['$']\n",
      "8 3 []\n",
      "8 4 ['*', '$']\n",
      "8 5 []\n",
      "8 6 ['*']\n",
      "8 7 []\n",
      "8 8 []\n",
      "8 9 []\n",
      "9 0 []\n",
      "9 1 []\n",
      "9 2 ['$']\n",
      "9 3 ['$']\n",
      "9 4 ['*', '$']\n",
      "9 5 ['*']\n",
      "9 6 ['*']\n",
      "9 7 []\n",
      "9 8 []\n",
      "9 9 []\n"
     ]
    }
   ],
   "source": [
    "for i, row in enumerate(rows):\n",
    "  for j, char in enumerate(row):    \n",
    "    print(i, j, get_adjacent_chars(rows, i, j))\n"
   ]
  },
  {
   "cell_type": "markdown",
   "metadata": {},
   "source": [
    "ran out of time on this one, the next step was to make the above matching exercise work for each number in the grid"
   ]
  },
  {
   "cell_type": "markdown",
   "metadata": {},
   "source": [
    "## 📆 day 03"
   ]
  },
  {
   "cell_type": "markdown",
   "metadata": {},
   "source": [
    "eek, my pitch to run a workshop for the turing academy was accepted today for a session tomorrow! will have to pass today's instalment and prepare. here was the puzzle:\n",
    "\n",
    "> ...you have to figure out which of the numbers you have appear in the list of winning numbers. The first match makes the card worth one point and each match after the first doubles the point value of that card. For example:\n",
    "\n",
    "```\n",
    "Card 1: 41 48 83 86 17 | 83 86  6 31 17  9 48 53\n",
    "Card 2: 13 32 20 16 61 | 61 30 68 82 17 32 24 19\n",
    "Card 3:  1 21 53 59 44 | 69 82 63 72 16 21 14  1\n",
    "Card 4: 41 92 73 84 69 | 59 84 76 51 58  5 54 83\n",
    "Card 5: 87 83 26 28 32 | 88 30 70 12 93 22 82 36\n",
    "Card 6: 31 18 13 56 72 | 74 77 10 23 35 67 36 11\n",
    "```\n",
    "\n",
    "> In the above example, card 1 has five winning numbers (41, 48, 83, 86, and 17) and eight numbers you have (83, 86, 6, 31, 17, 9, 48, and 53). Of the numbers you have, four of them (48, 83, 17, and 86) are winning numbers! That means card 1 is worth 8 points (1 for the first match, then doubled three times for each of the three matches after the first).\n",
    "\n",
    "> Card 2 has two winning numbers (32 and 61), so it is worth 2 points.\n",
    "> Card 3 has two winning numbers (1 and 21), so it is worth 2 points.\n",
    "> Card 4 has one winning number (84), so it is worth 1 point.\n",
    "> Card 5 has no winning numbers, so it is worth no points.\n",
    "> Card 6 has no winning numbers, so it is worth no points.\n",
    "\n",
    "> So, in this example, the Elf's pile of scratchcards is worth 13 points. How many points are they worth in total?\n",
    "\n",
    "i guess this would have been a catch of comparing two lists, very useful for practising lined data analysis!"
   ]
  }
 ],
 "metadata": {
  "kernelspec": {
   "display_name": "hdrc",
   "language": "python",
   "name": "python3"
  },
  "language_info": {
   "codemirror_mode": {
    "name": "ipython",
    "version": 3
   },
   "file_extension": ".py",
   "mimetype": "text/x-python",
   "name": "python",
   "nbconvert_exporter": "python",
   "pygments_lexer": "ipython3",
   "version": "3.11.5"
  }
 },
 "nbformat": 4,
 "nbformat_minor": 2
}
